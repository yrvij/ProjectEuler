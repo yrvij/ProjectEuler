{
 "cells": [
  {
   "cell_type": "code",
   "execution_count": null,
   "metadata": {},
   "outputs": [],
   "source": [
    "# Project Euler Questions:"
   ]
  },
  {
   "cell_type": "code",
   "execution_count": 5,
   "metadata": {},
   "outputs": [
    {
     "name": "stdout",
     "output_type": "stream",
     "text": [
      "233168\n"
     ]
    }
   ],
   "source": [
    "# Problem 1: Multiples of 3 and 5 -\n",
    "\n",
    "sum = 0\n",
    "for i in range(3,1000):\n",
    "    if (i % 3 == 0) or (i % 5 == 0):\n",
    "        sum += i\n",
    "print(sum)"
   ]
  },
  {
   "cell_type": "code",
   "execution_count": 4,
   "metadata": {},
   "outputs": [
    {
     "name": "stdout",
     "output_type": "stream",
     "text": [
      "4613732\n"
     ]
    }
   ],
   "source": [
    "# Problem 2: Even Fibonacci Numbers -\n",
    "\n",
    "post = 1\n",
    "prev = 1\n",
    "sum = 0\n",
    "while post < 4000000:\n",
    "    temp = post\n",
    "    post += prev\n",
    "    prev = temp\n",
    "    if post % 2 == 0:\n",
    "        sum += post\n",
    "\n",
    "print(sum)"
   ]
  },
  {
   "cell_type": "code",
   "execution_count": 20,
   "metadata": {},
   "outputs": [
    {
     "name": "stdout",
     "output_type": "stream",
     "text": [
      "6857\n"
     ]
    }
   ],
   "source": [
    "# Problem 3: Largest prime factor -\n",
    "\n",
    "import math \n",
    "factors = []\n",
    "num = 600851475143\n",
    "while num % 2 == 0:\n",
    "    factors.append(2)\n",
    "    num /= 2\n",
    "\n",
    "for i in range(3, int(math.sqrt(num)) + 1,2):\n",
    "    while (num % i == 0):\n",
    "        factors.append(i)\n",
    "        num /= i\n",
    "\n",
    "if (num > 2):\n",
    "    factors.append(num)\n",
    "        \n",
    "print(max(factors));"
   ]
  },
  {
   "cell_type": "code",
   "execution_count": 5,
   "metadata": {},
   "outputs": [
    {
     "name": "stdout",
     "output_type": "stream",
     "text": [
      "906609\n"
     ]
    }
   ],
   "source": [
    "# Problem 4: Largest palindrome product -\n",
    "\n",
    "def check_pal(num):\n",
    "    return str(num) == str(num)[::-1]\n",
    "        \n",
    "max_pal = 0\n",
    "init = 100\n",
    "i = 100\n",
    "for j in range(100,1000):\n",
    "    while i <= 999:\n",
    "        product = init * i\n",
    "        if check_pal(product) and max_pal < product:\n",
    "            max_pal = product\n",
    "        i += 1\n",
    "    init += 1\n",
    "    i = 100\n",
    "    \n",
    "print(max_pal)\n"
   ]
  },
  {
   "cell_type": "code",
   "execution_count": 3,
   "metadata": {},
   "outputs": [
    {
     "name": "stdout",
     "output_type": "stream",
     "text": [
      "232792560\n"
     ]
    }
   ],
   "source": [
    "# Problem 5: Smallest multiple -\n",
    "\n",
    "def find_lcm(num1, num2): \n",
    "    if num1 > num2: \n",
    "        num = num1 \n",
    "        den = num2 \n",
    "    else: \n",
    "        num = num2 \n",
    "        den = num1 \n",
    "    rem = num % den \n",
    "    \n",
    "    while rem != 0: \n",
    "        num = den \n",
    "        den = rem \n",
    "        rem = num % den \n",
    "        \n",
    "    gcd = den \n",
    "    lcm = int(int(num1 * num2) / int(gcd)) \n",
    "    return lcm \n",
    "      \n",
    "nums = list(range(1,21)) \n",
    "  \n",
    "num1 = nums[0] \n",
    "num2 = nums[1] \n",
    "lcm = find_lcm(num1, num2) \n",
    "  \n",
    "for i in range(2, len(nums)): \n",
    "    lcm = find_lcm(lcm, nums[i]) \n",
    "      \n",
    "print(lcm) \n"
   ]
  },
  {
   "cell_type": "code",
   "execution_count": 5,
   "metadata": {},
   "outputs": [
    {
     "name": "stdout",
     "output_type": "stream",
     "text": [
      "25164150\n"
     ]
    }
   ],
   "source": [
    "# Problem 6: Sum square difference -\n",
    "\n",
    "sum_squares = (100 * 101 * 201) / 6\n",
    "squares_sum = ((100 * 101) / 2)**2\n",
    "\n",
    "print(int(squares_sum - sum_squares))"
   ]
  },
  {
   "cell_type": "code",
   "execution_count": 2,
   "metadata": {},
   "outputs": [
    {
     "name": "stdout",
     "output_type": "stream",
     "text": [
      "104743\n"
     ]
    }
   ],
   "source": [
    "# Problem 7: 10001st prime -\n",
    "\n",
    "from sympy import sieve\n",
    "target = 10001\n",
    "primes = list(sieve.primerange(1,10**6))\n",
    "print(primes[target-1])"
   ]
  },
  {
   "cell_type": "code",
   "execution_count": 16,
   "metadata": {},
   "outputs": [
    {
     "name": "stdout",
     "output_type": "stream",
     "text": [
      "23514624000\n"
     ]
    }
   ],
   "source": [
    "# Problem 8: Largest product in a series -\n",
    "\n",
    "num = str(7316717653133062491922511967442657474235534919493496983520312774506326239578318016984801869478851843858615607891129494954595017379583319528532088055111254069874715852386305071569329096329522744304355766896648950445244523161731856403098711121722383113622298934233803081353362766142828064444866452387493035890729629049156044077239071381051585930796086670172427121883998797908792274921901699720888093776657273330010533678812202354218097512545405947522435258490771167055601360483958644670632441572215539753697817977846174064955149290862569321978468622482839722413756570560574902614079729686524145351004748216637048440319989000889524345065854122758866688116427171479924442928230863465674813919123162824586178664583591245665294765456828489128831426076900422421902267105562632111110937054421750694165896040807198403850962455444362981230987879927244284909188845801561660979191338754992005240636899125607176060588611646710940507754100225698315520005593572972571636269561882670428252483600823257530420752963450)\n",
    "max_product = 0\n",
    "\n",
    "for i in range(len(num)-12):\n",
    "    curr = 1\n",
    "    for j in range(i,i+13):\n",
    "        curr *= int(num[j])\n",
    "    if curr > max_product:\n",
    "        max_product = curr\n",
    "\n",
    "print(max_product)"
   ]
  },
  {
   "cell_type": "code",
   "execution_count": 2,
   "metadata": {},
   "outputs": [
    {
     "name": "stdout",
     "output_type": "stream",
     "text": [
      "3 4 5\n",
      "8 6 10\n",
      "5 12 13\n",
      "15 8 17\n",
      "12 16 20\n",
      "7 24 25\n",
      "24 10 26\n",
      "21 20 29\n",
      "16 30 34\n",
      "9 40 41\n",
      "35 12 37\n",
      "32 24 40\n",
      "27 36 45\n",
      "20 48 52\n",
      "11 60 61\n",
      "48 14 50\n",
      "45 28 53\n",
      "40 42 58\n",
      "33 56 65\n",
      "24 70 74\n",
      "13 84 85\n",
      "63 16 65\n",
      "60 32 68\n",
      "55 48 73\n",
      "48 64 80\n",
      "39 80 89\n",
      "28 96 100\n",
      "15 112 113\n"
     ]
    }
   ],
   "source": [
    "# Problem 9: Special Pythagorean triplet -\n",
    "\n",
    "c, m = 0, 2\n",
    "found = False\n",
    "\n",
    "while c < 100: \n",
    "    for n in range(1, m): \n",
    "        a = m * m - n * n \n",
    "        b = 2 * m * n \n",
    "        c = m * m + n * n \n",
    "        \n",
    "        print(a,b,c)\n",
    "\n",
    "        if a + b + c == 1000:\n",
    "            print(a*b*c) \n",
    "            found = True\n",
    "            break\n",
    "    if found:\n",
    "        break\n",
    "    else:\n",
    "        m += 1"
   ]
  },
  {
   "cell_type": "code",
   "execution_count": 16,
   "metadata": {},
   "outputs": [
    {
     "name": "stdout",
     "output_type": "stream",
     "text": [
      "142913828922\n"
     ]
    }
   ],
   "source": [
    "# Problem 10: Summation of primes -\n",
    "\n",
    "from sympy import sieve\n",
    "primes = list(sieve.primerange(1,2000000))\n",
    "print(sum(primes))"
   ]
  },
  {
   "cell_type": "code",
   "execution_count": 33,
   "metadata": {},
   "outputs": [
    {
     "name": "stdout",
     "output_type": "stream",
     "text": [
      "70600674\n"
     ]
    }
   ],
   "source": [
    "# Problem 11: Largest product in a grid -\n",
    "\n",
    "grid = []\n",
    "data = [\"8 2 22 97 38 15 0 40 0 75 4 5 7 78 52 12 50 77 91 8\", \"49 49 99 40 17 81 18 57 60 87 17 40 98 43 69 48 4 56 62 0\",\n",
    "        \"81 49 31 73 55 79 14 29 93 71 40 67 53 88 30 3 49 13 36 65\",\"52 70 95 23 4 60 11 42 69 24 68 56 1 32 56 71 37 2 36 91\",\n",
    "        \"22 31 16 71 51 67 63 89 41 92 36 54 22 40 40 28 66 33 13 80\",\"24 47 32 60 99 3 45 2 44 75 33 53 78 36 84 20 35 17 12 50\",\n",
    "        \"32 98 81 28 64 23 67 10 26 38 40 67 59 54 70 66 18 38 64 70\",\"67 26 20 68 2 62 12 20 95 63 94 39 63 8 40 91 66 49 94 21\",\n",
    "        \"24 55 58 5 66 73 99 26 97 17 78 78 96 83 14 88 34 89 63 72\",\"21 36 23 9 75 0 76 44 20 45 35 14 0 61 33 97 34 31 33 95\",\n",
    "        \"78 17 53 28 22 75 31 67 15 94 3 80 4 62 16 14 9 53 56 92\",\"16 39 5 42 96 35 31 47 55 58 88 24 0 17 54 24 36 29 85 57\",\n",
    "        \"86 56 0 48 35 71 89 7 5 44 44 37 44 60 21 58 51 54 17 58\",\"19 80 81 68 5 94 47 69 28 73 92 13 86 52 17 77 4 89 55 40\",\n",
    "        \"4 52 8 83 97 35 99 16 7 97 57 32 16 26 26 79 33 27 98 66\",\"88 36 68 87 57 62 20 72 3 46 33 67 46 55 12 32 63 93 53 69\",\n",
    "        \"4 42 16 73 38 25 39 11 24 94 72 18 8 46 29 32 40 62 76 36\",\"20 69 36 41 72 30 23 88 34 62 99 69 82 67 59 85 74 4 36 16\",\n",
    "        \"20 73 35 29 78 31 90 1 74 31 49 71 48 86 81 16 23 57 5 54\",\"1 70 54 71 83 51 54 69 16 92 33 48 61 43 52 1 89 19 67 48\"]\n",
    "\n",
    "for item in data:\n",
    "    grid.append(item.split(' '))\n",
    "    \n",
    "matrix = []\n",
    "for l in grid:\n",
    "    line = []\n",
    "    for string in l:\n",
    "        line.append(int(string))\n",
    "    matrix.append(line)\n",
    "    \n",
    "    \n",
    "def up_product(matrix,x,y):\n",
    "    product = 1\n",
    "    for i in range(4):\n",
    "        product *= matrix[x][y]\n",
    "        x -= 1\n",
    "    return product\n",
    "        \n",
    "def down_product(matrix,x,y):\n",
    "    product = 1\n",
    "    for i in range(4):\n",
    "        product *= matrix[x][y]\n",
    "        x += 1\n",
    "    return product\n",
    "\n",
    "def left_product(matrix,x,y):\n",
    "    product = 1\n",
    "    for i in range(4):\n",
    "        product *= matrix[x][y]\n",
    "        y -= 1\n",
    "    return product\n",
    "\n",
    "def right_product(matrix,x,y):\n",
    "    product = 1\n",
    "    for i in range(4):\n",
    "        product *= matrix[x][y]\n",
    "        y += 1\n",
    "    return product\n",
    "\n",
    "def upper_left_product(matrix,x,y):\n",
    "    product = 1\n",
    "    for i in range(4):\n",
    "        product *= matrix[x][y]\n",
    "        x -= 1\n",
    "        y -= 1\n",
    "    return product\n",
    "\n",
    "def lower_left_product(matrix,x,y):\n",
    "    product = 1\n",
    "    for i in range(4):\n",
    "        product *= matrix[x][y]\n",
    "        x += 1\n",
    "        y -= 1\n",
    "    return product\n",
    "\n",
    "def upper_right_product(matrix,x,y):\n",
    "    product = 1\n",
    "    for i in range(4):\n",
    "        product *= matrix[x][y]\n",
    "        x -= 1\n",
    "        y += 1\n",
    "    return product\n",
    "\n",
    "def lower_right_product(matrix,x,y):\n",
    "    product = 1\n",
    "    for i in range(4):\n",
    "        product *= matrix[x][y]\n",
    "        x += 1\n",
    "        y += 1\n",
    "    return product\n",
    "    \n",
    "\n",
    "def max_cardinal_products():\n",
    "    def max_up_product():\n",
    "        max_grid_product = 0\n",
    "        for i in range(3,20):\n",
    "            for j in range(3,20):\n",
    "                if up_product(matrix,i,j) > max_grid_product:\n",
    "                    max_grid_product = up_product(matrix,i,j)\n",
    "        return max_grid_product\n",
    "\n",
    "    def max_down_product():\n",
    "        max_grid_product = 0\n",
    "        for i in range(17):\n",
    "            for j in range(17):\n",
    "                if down_product(matrix,i,j) > max_grid_product:\n",
    "                    max_grid_product = down_product(matrix,i,j)\n",
    "        return max_grid_product\n",
    "    \n",
    "    def max_left_product():\n",
    "        max_grid_product = 0\n",
    "        for i in range(3,20):\n",
    "            for j in range(3,20):\n",
    "                if left_product(matrix,i,j) > max_grid_product:\n",
    "                    max_grid_product = left_product(matrix,i,j)\n",
    "        return max_grid_product\n",
    "    \n",
    "    def max_right_product():\n",
    "        max_grid_product = 0\n",
    "        for i in range(17):\n",
    "            for j in range(17):\n",
    "                if right_product(matrix,i,j) > max_grid_product:\n",
    "                    max_grid_product = right_product(matrix,i,j)\n",
    "        return max_grid_product\n",
    "    \n",
    "    return max(max_up_product(),max_down_product(),max_left_product(),max_right_product())\n",
    "\n",
    "        \n",
    "def max_diagonal_products():\n",
    "    def max_upper_left_product():\n",
    "        max_grid_product = 0\n",
    "        for i in range(3,20):\n",
    "            for j in range(3,20):\n",
    "                if upper_left_product(matrix,i,j) > max_grid_product:\n",
    "                    max_grid_product = upper_left_product(matrix,i,j)\n",
    "        return max_grid_product\n",
    "        \n",
    "    def max_lower_left_product():\n",
    "        max_grid_product = 0\n",
    "        for i in range(3,17):\n",
    "            for j in range(3,20):\n",
    "                if lower_left_product(matrix,i,j) > max_grid_product:\n",
    "                    max_grid_product = lower_left_product(matrix,i,j)\n",
    "        return max_grid_product\n",
    "    \n",
    "    def max_upper_right_product():\n",
    "        max_grid_product = 0\n",
    "        for i in range(3,17):\n",
    "            for j in range(17):\n",
    "                if upper_right_product(matrix,i,j) > max_grid_product:\n",
    "                    max_grid_product = upper_right_product(matrix,i,j)\n",
    "        return max_grid_product\n",
    "    \n",
    "    def max_lower_right_product():\n",
    "        max_grid_product = 0\n",
    "        for i in range(17):\n",
    "            for j in range(17):\n",
    "                if lower_right_product(matrix,i,j) > max_grid_product:\n",
    "                    max_grid_product = lower_right_product(matrix,i,j)\n",
    "        return max_grid_product\n",
    "        \n",
    "    return max(max_upper_left_product(),max_lower_left_product(),max_upper_right_product(),max_lower_right_product())\n",
    "\n",
    "print(max(max_cardinal_products(),max_diagonal_products()))\n"
   ]
  },
  {
   "cell_type": "code",
   "execution_count": 2,
   "metadata": {},
   "outputs": [
    {
     "name": "stdout",
     "output_type": "stream",
     "text": [
      "76576500 : 576\n"
     ]
    }
   ],
   "source": [
    "# Problem 12: Highly divisible triangular number -\n",
    "\n",
    "import math\n",
    "def num_divisors(n):\n",
    "    divisors = []\n",
    "    for i in range(1, int(math.sqrt(n) + 1)):\n",
    "        if n % i == 0:\n",
    "            divisors.append(i)\n",
    "            if i*i != n:\n",
    "                divisors.append(int(n / i))\n",
    "                \n",
    "    return len(divisors)\n",
    "                \n",
    "i = 1\n",
    "a = 1\n",
    "while i < 100000000:\n",
    "    if num_divisors(i) >= 500:\n",
    "        print(str(i) + \" : \" + str(num_divisors(i)))\n",
    "        break\n",
    "    i += a + 1\n",
    "    a += 1"
   ]
  },
  {
   "cell_type": "code",
   "execution_count": 3,
   "metadata": {},
   "outputs": [
    {
     "name": "stdout",
     "output_type": "stream",
     "text": [
      "5537376230\n"
     ]
    }
   ],
   "source": [
    "# Problem 13: Large sum -\n",
    "\n",
    "nums = [37107287533902102798797998220837590246510135740250,\n",
    "46376937677490009712648124896970078050417018260538,\n",
    "74324986199524741059474233309513058123726617309629,\n",
    "91942213363574161572522430563301811072406154908250,\n",
    "23067588207539346171171980310421047513778063246676,\n",
    "89261670696623633820136378418383684178734361726757,\n",
    "28112879812849979408065481931592621691275889832738,\n",
    "44274228917432520321923589422876796487670272189318,\n",
    "47451445736001306439091167216856844588711603153276,\n",
    "70386486105843025439939619828917593665686757934951,\n",
    "62176457141856560629502157223196586755079324193331,\n",
    "64906352462741904929101432445813822663347944758178,\n",
    "92575867718337217661963751590579239728245598838407,\n",
    "58203565325359399008402633568948830189458628227828,\n",
    "80181199384826282014278194139940567587151170094390,\n",
    "35398664372827112653829987240784473053190104293586,\n",
    "86515506006295864861532075273371959191420517255829,\n",
    "71693888707715466499115593487603532921714970056938,\n",
    "54370070576826684624621495650076471787294438377604,\n",
    "53282654108756828443191190634694037855217779295145,\n",
    "36123272525000296071075082563815656710885258350721,\n",
    "45876576172410976447339110607218265236877223636045,\n",
    "17423706905851860660448207621209813287860733969412,\n",
    "81142660418086830619328460811191061556940512689692,\n",
    "51934325451728388641918047049293215058642563049483,\n",
    "62467221648435076201727918039944693004732956340691,\n",
    "15732444386908125794514089057706229429197107928209,\n",
    "55037687525678773091862540744969844508330393682126,\n",
    "18336384825330154686196124348767681297534375946515,\n",
    "80386287592878490201521685554828717201219257766954,\n",
    "78182833757993103614740356856449095527097864797581,\n",
    "16726320100436897842553539920931837441497806860984,\n",
    "48403098129077791799088218795327364475675590848030,\n",
    "87086987551392711854517078544161852424320693150332,\n",
    "59959406895756536782107074926966537676326235447210,\n",
    "69793950679652694742597709739166693763042633987085,\n",
    "41052684708299085211399427365734116182760315001271,\n",
    "65378607361501080857009149939512557028198746004375,\n",
    "35829035317434717326932123578154982629742552737307,\n",
    "94953759765105305946966067683156574377167401875275,\n",
    "88902802571733229619176668713819931811048770190271,\n",
    "25267680276078003013678680992525463401061632866526,\n",
    "36270218540497705585629946580636237993140746255962,\n",
    "24074486908231174977792365466257246923322810917141,\n",
    "91430288197103288597806669760892938638285025333403,\n",
    "34413065578016127815921815005561868836468420090470,\n",
    "23053081172816430487623791969842487255036638784583,\n",
    "11487696932154902810424020138335124462181441773470,\n",
    "63783299490636259666498587618221225225512486764533,\n",
    "67720186971698544312419572409913959008952310058822,\n",
    "95548255300263520781532296796249481641953868218774,\n",
    "76085327132285723110424803456124867697064507995236,\n",
    "37774242535411291684276865538926205024910326572967,\n",
    "23701913275725675285653248258265463092207058596522,\n",
    "29798860272258331913126375147341994889534765745501,\n",
    "18495701454879288984856827726077713721403798879715,\n",
    "38298203783031473527721580348144513491373226651381,\n",
    "34829543829199918180278916522431027392251122869539,\n",
    "40957953066405232632538044100059654939159879593635,\n",
    "29746152185502371307642255121183693803580388584903,\n",
    "41698116222072977186158236678424689157993532961922,\n",
    "62467957194401269043877107275048102390895523597457,\n",
    "23189706772547915061505504953922979530901129967519,\n",
    "86188088225875314529584099251203829009407770775672,\n",
    "11306739708304724483816533873502340845647058077308,\n",
    "82959174767140363198008187129011875491310547126581,\n",
    "97623331044818386269515456334926366572897563400500,\n",
    "42846280183517070527831839425882145521227251250327,\n",
    "55121603546981200581762165212827652751691296897789,\n",
    "32238195734329339946437501907836945765883352399886,\n",
    "75506164965184775180738168837861091527357929701337,\n",
    "62177842752192623401942399639168044983993173312731,\n",
    "32924185707147349566916674687634660915035914677504,\n",
    "99518671430235219628894890102423325116913619626622,\n",
    "73267460800591547471830798392868535206946944540724,\n",
    "76841822524674417161514036427982273348055556214818,\n",
    "97142617910342598647204516893989422179826088076852,\n",
    "87783646182799346313767754307809363333018982642090,\n",
    "10848802521674670883215120185883543223812876952786,\n",
    "71329612474782464538636993009049310363619763878039,\n",
    "62184073572399794223406235393808339651327408011116,\n",
    "66627891981488087797941876876144230030984490851411,\n",
    "60661826293682836764744779239180335110989069790714,\n",
    "85786944089552990653640447425576083659976645795096,\n",
    "66024396409905389607120198219976047599490197230297,\n",
    "64913982680032973156037120041377903785566085089252,\n",
    "16730939319872750275468906903707539413042652315011,\n",
    "94809377245048795150954100921645863754710598436791,\n",
    "78639167021187492431995700641917969777599028300699,\n",
    "15368713711936614952811305876380278410754449733078,\n",
    "40789923115535562561142322423255033685442488917353,\n",
    "44889911501440648020369068063960672322193204149535,\n",
    "41503128880339536053299340368006977710650566631954,\n",
    "81234880673210146739058568557934581403627822703280,\n",
    "82616570773948327592232845941706525094512325230608,\n",
    "22918802058777319719839450180888072429661980811197,\n",
    "77158542502016545090413245809786882778948721859617,\n",
    "72107838435069186155435662884062257473692284509516,\n",
    "20849603980134001723930671666823555245252804609722,\n",
    "53503534226472524250874054075591789781264330331690]\n",
    "\n",
    "print(str(sum(nums))[:10])"
   ]
  },
  {
   "cell_type": "code",
   "execution_count": 5,
   "metadata": {},
   "outputs": [
    {
     "name": "stdout",
     "output_type": "stream",
     "text": [
      "837799\n"
     ]
    }
   ],
   "source": [
    "# Problem 14: Longest Collatz Sequence -\n",
    "\n",
    "i = 1\n",
    "steps = []\n",
    "\n",
    "def collatz_steps(n):\n",
    "    s = 0\n",
    "    while n != 1:\n",
    "        if n % 2 == 0:\n",
    "            n /= 2\n",
    "        else:\n",
    "            n = 3 * n + 1\n",
    "        s += 1\n",
    "    return s\n",
    "\n",
    "while i < 1000000:\n",
    "    steps.append(collatz_steps(i))\n",
    "    i += 1\n",
    "    \n",
    "print(steps.index(max(steps))+1)"
   ]
  },
  {
   "cell_type": "code",
   "execution_count": null,
   "metadata": {},
   "outputs": [],
   "source": []
  },
  {
   "cell_type": "code",
   "execution_count": 1,
   "metadata": {},
   "outputs": [
    {
     "name": "stdout",
     "output_type": "stream",
     "text": [
      "1366\n"
     ]
    }
   ],
   "source": [
    "# Problem 16: Power digit sum -\n",
    "\n",
    "num = str(2**1000)\n",
    "sum = 0\n",
    "for digit in num:\n",
    "    sum += int(digit)\n",
    "print(sum)"
   ]
  },
  {
   "cell_type": "code",
   "execution_count": 2,
   "metadata": {},
   "outputs": [
    {
     "name": "stdout",
     "output_type": "stream",
     "text": [
      "21124\n"
     ]
    }
   ],
   "source": [
    "# Problem 17: Number letter counts -\n",
    "\n",
    "bases = {\n",
    "        1 : \"one\",\n",
    "        2 : \"two\",\n",
    "        3 : \"three\",\n",
    "        4 : \"four\",\n",
    "        5 : \"five\",\n",
    "        6 : \"six\",\n",
    "        7 : \"seven\",\n",
    "        8 : \"eight\",\n",
    "        9 : \"nine\",\n",
    "        10 : \"ten\",\n",
    "        11 : \"eleven\",\n",
    "        12 : \"twelve\",\n",
    "        13 : \"thirteen\",\n",
    "        14 : \"fourteen\",\n",
    "        15 : \"fifteen\",\n",
    "        16 : \"sixteen\",\n",
    "        17 : \"seventeen\",\n",
    "        18 : \"eighteen\",\n",
    "        19 : \"nineteen\",\n",
    "        20 : \"twenty\",\n",
    "        30 : \"thirty\",\n",
    "        40 : \"forty\",\n",
    "        50 : \"fifty\",\n",
    "        60 : \"sixty\",\n",
    "        70 : \"seventy\",\n",
    "        80 : \"eighty\",\n",
    "        90 : \"ninety\"\n",
    "    }\n",
    "        \n",
    "def generate_wordnumber(num):\n",
    "    if num < 20:\n",
    "        return bases[num]\n",
    "    elif num >= 20 and num <= 99:\n",
    "        if str(num)[1] == '0':\n",
    "            return bases[num]\n",
    "        else: \n",
    "            return bases[int(str(num)[0]) * 10] + ' ' + bases[int(str(num)[1])]\n",
    "    elif len(str(num)) == 3:\n",
    "        if str(num)[1] == str(num)[2] == '0':\n",
    "            return bases[int(str(num)[0])] + ' hundred'\n",
    "        elif str(num)[1] == '0':\n",
    "            return bases[int(str(num)[0])] + ' hundred and ' + bases[int(str(num)[2])]\n",
    "        elif str(num)[2] == '0':\n",
    "            return bases[int(str(num)[0])] + ' hundred and ' + bases[int(str(num)[1]) * 10]\n",
    "        elif str(num)[1] == '1':\n",
    "            return bases[int(str(num)[0])] + ' hundred and ' + bases[int(str(num)[1:3])]\n",
    "        else:\n",
    "            return bases[int(str(num)[0])] + ' hundred and ' + bases[int(str(num)[1]) * 10] +  ' ' + bases[int(str(num)[2])]\n",
    "    else:\n",
    "        return \"one thousand\"\n",
    "        \n",
    "letters = 0\n",
    "for i in range(1,1001):\n",
    "    letters += len(generate_wordnumber(i).replace(' ',''))\n",
    "    \n",
    "print(letters)"
   ]
  },
  {
   "cell_type": "code",
   "execution_count": 1,
   "metadata": {},
   "outputs": [
    {
     "name": "stdout",
     "output_type": "stream",
     "text": [
      "171\n"
     ]
    }
   ],
   "source": [
    "# Problem 19: Counting Sundays -\n",
    "\n",
    "normal_year = {\n",
    "    1 : 31,\n",
    "    2 : 28,\n",
    "    3 : 31,\n",
    "    4 : 30,\n",
    "    5 : 31,\n",
    "    6 : 30,\n",
    "    7 : 31,\n",
    "    8 : 31,\n",
    "    9 : 30,\n",
    "    10 : 31,\n",
    "    11 : 30,\n",
    "    12 : 31\n",
    "}\n",
    "\n",
    "leap_year = {\n",
    "    1 : 31,\n",
    "    2 : 29,\n",
    "    3 : 31,\n",
    "    4 : 30,\n",
    "    5 : 31,\n",
    "    6 : 30,\n",
    "    7 : 31,\n",
    "    8 : 31,\n",
    "    9 : 30,\n",
    "    10 : 31,\n",
    "    11 : 30,\n",
    "    12 : 31\n",
    "}\n",
    "\n",
    "def check_leap_year(year):\n",
    "    if year % 100 == 0:\n",
    "        return year % 400 == 0\n",
    "    else:\n",
    "        return year % 4 == 0\n",
    "    \n",
    "start = 1901\n",
    "sundays = 0\n",
    "day = 2 # January 1, 1901 was a Tuesday \n",
    "\n",
    "while start <= 2000:\n",
    "    if check_leap_year(start):\n",
    "        for i in range(1,13):\n",
    "            if leap_year[i] == 31:\n",
    "                day += 3\n",
    "                day %= 7\n",
    "                if day == 0:\n",
    "                    sundays += 1\n",
    "            elif leap_year[i] == 30:\n",
    "                day += 2\n",
    "                day %= 7\n",
    "                if day == 0:\n",
    "                    sundays += 1\n",
    "            else:\n",
    "                day += 1\n",
    "                day %= 7\n",
    "                if day == 0:\n",
    "                    sundays += 1\n",
    "                    \n",
    "    else:\n",
    "        for i in range(1,13):\n",
    "            if normal_year[i] == 31:\n",
    "                day += 3\n",
    "                day %= 7\n",
    "                if day == 0:\n",
    "                    sundays += 1\n",
    "            elif normal_year[i] == 30:\n",
    "                day += 2\n",
    "                day %= 7\n",
    "                if day == 0:\n",
    "                    sundays += 1    \n",
    "            else:\n",
    "                day %= 7\n",
    "                if day == 0:\n",
    "                    sundays += 1\n",
    "                            \n",
    "    start += 1\n",
    "\n",
    "print(sundays)   "
   ]
  },
  {
   "cell_type": "code",
   "execution_count": 1,
   "metadata": {},
   "outputs": [
    {
     "name": "stdout",
     "output_type": "stream",
     "text": [
      "648\n"
     ]
    }
   ],
   "source": [
    "# Problem 20: Factorial digit sum -\n",
    "\n",
    "i = 100\n",
    "product = 1\n",
    "while i != 0:\n",
    "    product *= i\n",
    "    i -= 1\n",
    "sum = 0\n",
    "for digit in str(product):\n",
    "    sum += int(digit)\n",
    "    \n",
    "print(sum)"
   ]
  },
  {
   "cell_type": "code",
   "execution_count": 1,
   "metadata": {},
   "outputs": [
    {
     "name": "stdout",
     "output_type": "stream",
     "text": [
      "[220, 284, 1184, 1210, 2620, 2924, 5020, 5564, 6232, 6368]\n",
      "31626\n"
     ]
    }
   ],
   "source": [
    "# Problem 21: Amicable numbers -\n",
    "\n",
    "import math\n",
    "def d(n):\n",
    "    divisors = 0\n",
    "    for i in range(1, int(math.sqrt(n) + 1)):\n",
    "        if n % i == 0 and n != 1:\n",
    "            divisors += i\n",
    "            if i * i != n:\n",
    "                divisors += int(n / i)\n",
    "    if (n != 1):\n",
    "        divisors -= n\n",
    "        \n",
    "    return divisors\n",
    "\n",
    "sum = 0\n",
    "amicable = []\n",
    "for i in range(1,10001):\n",
    "    if d(d(i)) == i and d(i) != i and d(i) != 1 and d(i) != 0 and d(i) not in amicable:\n",
    "        sum += i + d(i)\n",
    "        amicable.append(i)\n",
    "        amicable.append(d(i))\n",
    "    \n",
    "print(amicable)\n",
    "print(sum)"
   ]
  },
  {
   "cell_type": "code",
   "execution_count": 70,
   "metadata": {},
   "outputs": [
    {
     "name": "stdout",
     "output_type": "stream",
     "text": [
      "871198282\n"
     ]
    }
   ],
   "source": [
    "# Problem 22: Names scores -\n",
    "\n",
    "names = []\n",
    "with open(\"names.txt\",'r') as file:\n",
    "    for line in file:\n",
    "        for name in line.split(','):\n",
    "            names.append(name.strip(\"\\\"\"))\n",
    "      \n",
    "    file.close()\n",
    "\n",
    "tot_name_score = 0\n",
    "names = sorted(names)\n",
    "for i,name in enumerate(names):\n",
    "    alpha_pos = i + 1\n",
    "    alpha_val = 0\n",
    "    for char in name:\n",
    "        alpha_val += ord(char) - 64\n",
    "    tot_name_score += alpha_val * alpha_pos\n",
    "print(tot_name_score)\n",
    "    "
   ]
  },
  {
   "cell_type": "code",
   "execution_count": null,
   "metadata": {},
   "outputs": [],
   "source": [
    "# Problem 23: Non-abundant sums -\n",
    "\n",
    "import math\n",
    "def divisors_sum(n):\n",
    "    divisors = 0\n",
    "    for i in range(1, int(math.sqrt(n) + 1)):\n",
    "        if n % i == 0 and n != 1:\n",
    "            divisors += i\n",
    "            if i * i != n:\n",
    "                divisors += int(n / i)\n",
    "    if (n != 1):\n",
    "        divisors -= n\n",
    "        \n",
    "    return divisors\n",
    "\n"
   ]
  },
  {
   "cell_type": "code",
   "execution_count": 1,
   "metadata": {},
   "outputs": [
    {
     "name": "stdout",
     "output_type": "stream",
     "text": [
      "9183\n"
     ]
    }
   ],
   "source": [
    "# Problem 24: Lexigraphic permutations -\n",
    "\n",
    "terms = []\n",
    "for a in range(2,101):\n",
    "    for b in range(2,101):\n",
    "        terms.append(a**b)\n",
    "\n",
    "print(len(set(terms)))\n"
   ]
  },
  {
   "cell_type": "code",
   "execution_count": 11,
   "metadata": {},
   "outputs": [
    {
     "name": "stdout",
     "output_type": "stream",
     "text": [
      "4782\n"
     ]
    }
   ],
   "source": [
    "# Problem 25: 1000-digit Fibonacci number -\n",
    "\n",
    "first = 1\n",
    "second = 1\n",
    "counter = 2\n",
    "\n",
    "while len(str(second)) < 1000:\n",
    "    temp = second\n",
    "    second += first\n",
    "    first = temp\n",
    "    counter += 1\n",
    "    \n",
    "print(counter)"
   ]
  },
  {
   "cell_type": "code",
   "execution_count": 2,
   "metadata": {},
   "outputs": [
    {
     "name": "stdout",
     "output_type": "stream",
     "text": [
      "669171001\n"
     ]
    }
   ],
   "source": [
    "# Problem 28: Number spiral diagonals\n",
    "import math\n",
    "\n",
    "num = 1\n",
    "sum = 1\n",
    "x = 2\n",
    "counter = 1\n",
    "\n",
    "while int(math.sqrt(num)) != 1001:\n",
    "    for i in range(4):\n",
    "        num += x\n",
    "        sum += num\n",
    "    x += 2\n",
    "    counter += 1\n",
    "    \n",
    "print(sum)"
   ]
  },
  {
   "cell_type": "code",
   "execution_count": 2,
   "metadata": {},
   "outputs": [
    {
     "name": "stdout",
     "output_type": "stream",
     "text": [
      "[1245, 1254, 1425, 1452, 1524, 1542, 2145, 2154, 2415, 2451, 2514, 2541, 4125, 4152, 4215, 4251, 4512, 4521, 5124, 5142, 5214, 5241, 5412, 5421]\n"
     ]
    }
   ],
   "source": [
    "from math import sqrt;\n",
    "from itertools import count, islice\n",
    "\n",
    "def perm_list(num):\n",
    "    num_list = []\n",
    "    \n",
    "    def permutation(lst): \n",
    "        # If lst is empty then there are no permutations \n",
    "        if len(lst) == 0: \n",
    "            return [] \n",
    "\n",
    "        # If there is only one element in lst then, only \n",
    "        # one permuatation is possible \n",
    "        if len(lst) == 1: \n",
    "            return [lst] \n",
    "\n",
    "        # Find the permutations for lst if there are \n",
    "        # more than 1 characters \n",
    "\n",
    "        l = [] # empty list that will store current permutation \n",
    "\n",
    "        # Iterate the input(lst) and calculate the permutation \n",
    "        for i in range(len(lst)): \n",
    "            m = lst[i] \n",
    "\n",
    "           # Extract lst[i] or m from the list.  remLst is \n",
    "           # remaining list \n",
    "            remLst = lst[:i] + lst[i+1:] \n",
    "\n",
    "           # Generating all permutations where m is first \n",
    "           # element \n",
    "            for p in permutation(remLst): \n",
    "                l.append([m] + p) \n",
    "        return l \n",
    "\n",
    "    data = list(num) \n",
    "    for p in permutation(data): \n",
    "        num_list.append(int(''.join(p)))\n",
    "        \n",
    "    return num_list\n",
    "\n",
    "def isPrime(p_list):\n",
    "    for item in p_list:\n",
    "        return n > 1 and all(n%i for i in islice(count(2), int(sqrt(n)-1)))\n",
    "\n",
    "counter = 0\n",
    "\n",
    "for i in range(2,1000000):\n",
    "    for i,item in enumerate(perm_list(i)):\n",
    "        if not isPrime(item):\n",
    "            break\n",
    "        elif i == len(perm_list)-1:\n",
    "            counter += 1\n",
    "            break\n",
    "        else:\n",
    "            continue\n",
    "        \n",
    "        \n",
    "        \n",
    "   "
   ]
  },
  {
   "cell_type": "code",
   "execution_count": 1,
   "metadata": {},
   "outputs": [
    {
     "name": "stdout",
     "output_type": "stream",
     "text": [
      "872187\n"
     ]
    }
   ],
   "source": [
    "# Problem 36: Double-base palindromes -\n",
    "\n",
    "sum = 0\n",
    "for i in range(1000001):\n",
    "    if str(i) == str(i)[::-1] and str(bin(i)[2:]) == str(bin(i)[2:])[::-1]:\n",
    "        sum += i\n",
    "    \n",
    "print(sum)"
   ]
  },
  {
   "cell_type": "code",
   "execution_count": null,
   "metadata": {},
   "outputs": [],
   "source": [
    "# Problem 39: Integer right triangles -\n",
    "\n",
    "p = 1000\n",
    "\n",
    "max_solutions = 0\n",
    "\n",
    "for i in range(1,p+1):\n",
    "    solutions = 0\n",
    "    c, m = 0, 2\n",
    "    while c < i:\n",
    "        for n in range(1, m): \n",
    "            a = m * m - n * n \n",
    "            b = 2 * m * n \n",
    "            c = m * m + n * n \n",
    "            \n",
    "            if c > i:\n",
    "                break\n",
    "            else:\n",
    "                m += 1\n",
    "    "
   ]
  },
  {
   "cell_type": "code",
   "execution_count": 9,
   "metadata": {},
   "outputs": [
    {
     "name": "stdout",
     "output_type": "stream",
     "text": [
      "210\n"
     ]
    }
   ],
   "source": [
    "# Problem 40: Champernowne's constant -\n",
    "\n",
    "champ_const = \".\"\n",
    "product = 1\n",
    "for i in range(1,1000001):\n",
    "    champ_const += str(i)\n",
    "\n",
    "for i in range(7):\n",
    "    product *= int(champ_const[10**i])\n",
    "    \n",
    "print(product)"
   ]
  },
  {
   "cell_type": "code",
   "execution_count": 12,
   "metadata": {},
   "outputs": [
    {
     "name": "stdout",
     "output_type": "stream",
     "text": [
      "162\n"
     ]
    }
   ],
   "source": [
    "# Problem 42: Coded triangle numbers -\n",
    "\n",
    "def generateTriangularNumbers(num):\n",
    "    tri_nums = []\n",
    "    a = 0\n",
    "    i = 1\n",
    "    while a < num:\n",
    "        n = int((1/2)*i*(i+1))\n",
    "        tri_nums.append(n)\n",
    "        a = n\n",
    "        i += 1\n",
    "        \n",
    "    return tri_nums\n",
    "    \n",
    "\n",
    "words = []\n",
    "with open(\"words.txt\",'r') as file:\n",
    "    for line in file:\n",
    "        for word in line.split(','):\n",
    "            words.append(word.strip(\"\\\"\"))\n",
    "    file.close()\n",
    "    \n",
    "alpha_values = []\n",
    "for item in words:\n",
    "    tot = 0\n",
    "    for char in item:\n",
    "        tot += ord(char) - 64\n",
    "    alpha_values.append(tot)\n",
    "            \n",
    "t_nums = generateTriangularNumbers(max(alpha_values))\n",
    "\n",
    "counter = 0\n",
    "for item in alpha_values:\n",
    "    if item in t_nums:\n",
    "        counter += 1\n",
    "        \n",
    "\n",
    "print(counter)\n",
    "    \n",
    "\n"
   ]
  },
  {
   "cell_type": "code",
   "execution_count": 12,
   "metadata": {},
   "outputs": [
    {
     "name": "stdout",
     "output_type": "stream",
     "text": [
      "9110846700\n"
     ]
    }
   ],
   "source": [
    "# Problem 48: Self powers -\n",
    "\n",
    "i = 1\n",
    "num = 0\n",
    "while i <= 1000:\n",
    "    num += i**i\n",
    "    i += 1\n",
    "    \n",
    "num = str(num)\n",
    "print(num[len(num)-10:])\n",
    "    "
   ]
  }
 ],
 "metadata": {
  "kernelspec": {
   "display_name": "Python 3",
   "language": "python",
   "name": "python3"
  },
  "language_info": {
   "codemirror_mode": {
    "name": "ipython",
    "version": 3
   },
   "file_extension": ".py",
   "mimetype": "text/x-python",
   "name": "python",
   "nbconvert_exporter": "python",
   "pygments_lexer": "ipython3",
   "version": "3.6.5"
  }
 },
 "nbformat": 4,
 "nbformat_minor": 2
}
